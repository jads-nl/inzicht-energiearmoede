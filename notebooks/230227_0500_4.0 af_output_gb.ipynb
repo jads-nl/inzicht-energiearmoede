{
 "cells": [
  {
   "cell_type": "code",
   "execution_count": null,
   "id": "037d183b",
   "metadata": {},
   "outputs": [],
   "source": [
    "import matplotlib.pyplot as plt\n",
    "import pandas as pd\n",
    "import seaborn as sns"
   ]
  },
  {
   "cell_type": "code",
   "execution_count": null,
   "id": "ce3bf3c2",
   "metadata": {
    "scrolled": true
   },
   "outputs": [],
   "source": [
    "df = pd.read_parquet('energiematrix_zonder_missing.parquet')\n",
    "df.info()\n",
    "df.head()"
   ]
  },
  {
   "cell_type": "code",
   "execution_count": null,
   "id": "8ff97803",
   "metadata": {
    "scrolled": false
   },
   "outputs": [],
   "source": [
    "df_min = df[['gem2022', 'wc2022', 'bc2022', 'lihk_lilek_nieuw']]\n",
    "df_gb_output = df_min.loc[df_min['gem2022'] == 'Gemert-Bakel']\n",
    "df_gb_output.info()"
   ]
  },
  {
   "cell_type": "code",
   "execution_count": null,
   "id": "6bf13678",
   "metadata": {},
   "outputs": [],
   "source": [
    "df_nieuw = pd.DataFrame()\n",
    "\n",
    "df_nieuw['lihk_lilek_nieuw'] = df_gb_output['lihk_lilek_nieuw']\n",
    "df_nieuw['bc2022'] = df_gb_output.bc2022.cat.remove_unused_categories()\n",
    "df_nieuw['wc2022'] = df_gb_output.wc2022.cat.remove_unused_categories()\n",
    "df_nieuw['gem2022'] = df_gb_output.gem2022.cat.remove_unused_categories()\n",
    "\n",
    "df_nieuw.info()"
   ]
  },
  {
   "cell_type": "code",
   "execution_count": null,
   "id": "702b34f1",
   "metadata": {},
   "outputs": [],
   "source": [
    "#df_gb_output.groupby(['bc2022']).value_counts(normalize=True)\n",
    "#df_gb_output['lihk_lilek_nieuw'].value_counts(normalize=True) * 100"
   ]
  },
  {
   "cell_type": "code",
   "execution_count": null,
   "id": "c53d84c2",
   "metadata": {},
   "outputs": [],
   "source": [
    "df_nieuw.groupby(['bc2022']).sum()"
   ]
  },
  {
   "cell_type": "code",
   "execution_count": null,
   "id": "d4059029",
   "metadata": {
    "scrolled": true
   },
   "outputs": [],
   "source": [
    "#df_gb_output.groupby(['bc2022']).lihk_lilek_nieuw.value_counts(normalize=True) * 100"
   ]
  },
  {
   "cell_type": "code",
   "execution_count": null,
   "id": "5fc98327",
   "metadata": {},
   "outputs": [],
   "source": [
    "df_excel = pd.DataFrame(df_gb_output.groupby(['bc2022']).lihk_lilek_nieuw.value_counts(normalize=True))\n",
    "df_excel.head()"
   ]
  },
  {
   "cell_type": "code",
   "execution_count": null,
   "id": "6317767f",
   "metadata": {},
   "outputs": [],
   "source": [
    "df_excel.to_csv('Percentage_buurten_gb.csv')"
   ]
  }
 ],
 "metadata": {
  "kernelspec": {
   "display_name": "Python 3 (ipykernel)",
   "language": "python",
   "name": "python3"
  },
  "language_info": {
   "codemirror_mode": {
    "name": "ipython",
    "version": 3
   },
   "file_extension": ".py",
   "mimetype": "text/x-python",
   "name": "python",
   "nbconvert_exporter": "python",
   "pygments_lexer": "ipython3",
   "version": "3.9.15"
  }
 },
 "nbformat": 4,
 "nbformat_minor": 5
}
