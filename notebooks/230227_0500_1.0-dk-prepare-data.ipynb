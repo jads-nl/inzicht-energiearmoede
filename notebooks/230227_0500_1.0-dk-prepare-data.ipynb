{
 "cells": [
  {
   "cell_type": "code",
   "execution_count": null,
   "metadata": {},
   "outputs": [],
   "source": [
    "# laad originele energiematrix\n",
    "import pandas as pd\n",
    "\n",
    "\n",
    "df = pd.read_spss('G:/Maatwerk/ENERGIEMATRIX/5-220701Energiematrix2020.sav', usecols=None, convert_categoricals=True)"
   ]
  },
  {
   "cell_type": "code",
   "execution_count": null,
   "metadata": {},
   "outputs": [],
   "source": [
    "# selectie van kolommen, prio 1 en 2\n",
    "selected_columns = (\n",
    "    'jaar',\n",
    "    'VBOBOUWJAAR',\n",
    "    'VBOOPPERVLAKTE',\n",
    "    'VBOWoningtype',\n",
    "    'TypeEigenaar',\n",
    "    'WOZWAARDEOBJECTBAG',\n",
    "    'gem2022',\n",
    "    'wc2022',\n",
    "    'bc2022',\n",
    "    'provincie',\n",
    "    'stedoad',\n",
    "    'inwonersaantal',\n",
    "    'STEDBUURT',\n",
    "    'INHBESTINKH',\n",
    "    'VEHW1110FINH',\n",
    "    'INHARMSOC',\n",
    "    'INHBBIHJ',\n",
    "    'INHAHL',\n",
    "    'INHSAMHH',\n",
    "    'aardgaswoning',\n",
    "    'GAS',\n",
    "    'gas_temp',\n",
    "    'STADSW', \n",
    "    'ELEK',\n",
    "    'energiebedrag',\n",
    "    'bestinkh_verm',\n",
    "    'energiequote_verm',\n",
    "    'hogequote8_verm',\n",
    "    'EI',\n",
    "    'verwarming',\n",
    "    'warmwater', \n",
    "    'ventilatie',\n",
    "    'glas_huiskamer',\n",
    "    'glas_slaapkamer',\n",
    "    'gevel',\n",
    "    'dak',\n",
    "    'vloer', \n",
    "    'Zonneboiler',\n",
    "    'Zonnepanelen',\n",
    "    'Zonnepanelen_kWp',\n",
    "    'bouwjaarklasse_pbl',\n",
    "    'oppervlakteklasse_pbl',\n",
    "    'label_dik',\n",
    "    'laaginkomen',\n",
    "    'laagvermogen',\n",
    "    'armoede',\n",
    "    'lek_nieuw',\n",
    "    'lilek_nieuw',\n",
    "    'lihk_lilek_nieuw'\n",
    ")"
   ]
  },
  {
   "cell_type": "code",
   "execution_count": null,
   "metadata": {},
   "outputs": [],
   "source": [
    "# nieuwe dataframe met selectie\n",
    "selected = df.loc[:, selected_columns]\n",
    "\n",
    "# downcast alle floats naar signed integer. missende waarde vaak -1\n",
    "for col in selected.select_dtypes(include='float').columns:\n",
    "    selected[col] = pd.to_numeric(df[col].fillna(-1), downcast='signed')\n",
    "\n",
    "# paar kolommen doen gek --> forceer naar integer\n",
    "force_integer = ('VEHW1110FINH', 'Zonnepanelen_kWp')\n",
    "for col in force_integer:\n",
    "    selected[col] = selected.loc[:, col].astype(int)\n",
    "    \n",
    "# gebruik geheugen van categorical kolom is ongeveer gelijk aan int8 kolom\n",
    "# beter dan dit wordt het niet\n",
    "selected.memory_usage(deep=True)"
   ]
  },
  {
   "cell_type": "code",
   "execution_count": null,
   "metadata": {},
   "outputs": [],
   "source": [
    "selected.info()"
   ]
  },
  {
   "cell_type": "code",
   "execution_count": null,
   "metadata": {},
   "outputs": [],
   "source": [
    "# schrijf selectie naar parquet\n",
    "selected.to_parquet('selectie-energiematrix.parquet')"
   ]
  },
  {
   "cell_type": "code",
   "execution_count": null,
   "metadata": {},
   "outputs": [],
   "source": [
    "%%time\n",
    "test = pd.read_parquet('selectie-energiematrix.parquet')"
   ]
  },
  {
   "cell_type": "code",
   "execution_count": null,
   "metadata": {},
   "outputs": [],
   "source": [
    "df_energy = pd.read_parquet('selectie-energiematrix.parquet')\n",
    "df.head()"
   ]
  },
  {
   "cell_type": "code",
   "execution_count": null,
   "metadata": {},
   "outputs": [],
   "source": [
    "df_gb = df_energy.loc[df_energy['gem2022'] == 'Gemert-Bakel'].copy()\n",
    "df_gb.info()"
   ]
  },
  {
   "cell_type": "code",
   "execution_count": null,
   "metadata": {},
   "outputs": [],
   "source": [
    "import seaborn as sns\n",
    "import matplotlib.pyplot as plt \n",
    "\n",
    "a4_dims = (11.7, 8.27)\n",
    "fig, ax = plt.subplots(figsize=a4_dims)\n",
    "\n",
    "sns.countplot(ax = ax, data = df_gb, x = 'label_dik')\n",
    "plt.xticks(rotation=45)"
   ]
  },
  {
   "cell_type": "code",
   "execution_count": null,
   "metadata": {},
   "outputs": [],
   "source": [
    "sns.countplot(data=df_gb, x = 'lihk_lilek_nieuw')\n"
   ]
  },
  {
   "cell_type": "code",
   "execution_count": null,
   "metadata": {},
   "outputs": [],
   "source": [
    "(df_gb['lihk_lilek_nieuw'] == 1).sum()"
   ]
  },
  {
   "cell_type": "code",
   "execution_count": null,
   "metadata": {},
   "outputs": [],
   "source": [
    "(df_gb['lihk_lilek_nieuw'] == -1).sum()"
   ]
  },
  {
   "cell_type": "code",
   "execution_count": null,
   "metadata": {},
   "outputs": [],
   "source": [
    "df_gb['lihk_lilek_nieuw'].value_counts"
   ]
  },
  {
   "cell_type": "code",
   "execution_count": null,
   "metadata": {},
   "outputs": [],
   "source": [
    "df_db = df_energy.loc[df_energy['gem2022'] == \"'s-Hertogenbosch\"].copy()\n",
    "df_db.info()"
   ]
  },
  {
   "cell_type": "code",
   "execution_count": null,
   "metadata": {},
   "outputs": [],
   "source": [
    "sns.countplot(data=df_db, x = 'lihk_lilek_nieuw')"
   ]
  },
  {
   "cell_type": "code",
   "execution_count": null,
   "metadata": {},
   "outputs": [],
   "source": [
    "(df_db['lihk_lilek_nieuw'] == -1).sum()"
   ]
  },
  {
   "cell_type": "code",
   "execution_count": null,
   "metadata": {},
   "outputs": [],
   "source": [
    "(df_db['lihk_lilek_nieuw'] == 1).sum()"
   ]
  }
 ],
 "metadata": {
  "kernelspec": {
   "display_name": "Python 3 (ipykernel)",
   "language": "python",
   "name": "python3"
  },
  "language_info": {
   "codemirror_mode": {
    "name": "ipython",
    "version": 3
   },
   "file_extension": ".py",
   "mimetype": "text/x-python",
   "name": "python",
   "nbconvert_exporter": "python",
   "pygments_lexer": "ipython3",
   "version": "3.10.5"
  }
 },
 "nbformat": 4,
 "nbformat_minor": 4
}
