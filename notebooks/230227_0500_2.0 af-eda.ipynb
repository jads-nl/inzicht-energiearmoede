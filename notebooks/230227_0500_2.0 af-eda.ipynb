{
 "cells": [
  {
   "cell_type": "code",
   "execution_count": null,
   "metadata": {
    "scrolled": true
   },
   "outputs": [],
   "source": [
    "import pandas as pd\n",
    "\n",
    "df = pd.read_parquet('selectie-energiematrix.parquet')\n",
    "df.head()"
   ]
  },
  {
   "cell_type": "code",
   "execution_count": null,
   "metadata": {
    "scrolled": true
   },
   "outputs": [],
   "source": [
    "df.info(verbose=True, show_counts=True)"
   ]
  },
  {
   "cell_type": "code",
   "execution_count": null,
   "metadata": {},
   "outputs": [],
   "source": [
    "df['INHARMSOC'].isnull().sum()"
   ]
  },
  {
   "cell_type": "code",
   "execution_count": null,
   "metadata": {
    "scrolled": true
   },
   "outputs": [],
   "source": [
    "# Fill in missing categorical values with the mode from that column\n",
    "\n",
    "df['INHARMSOC'].fillna(value=df['INHARMSOC'].mode()[0], inplace=True)\n",
    "df['INHARMSOC'].isnull().sum()"
   ]
  },
  {
   "cell_type": "code",
   "execution_count": null,
   "metadata": {},
   "outputs": [],
   "source": [
    "# Fill in missing numerical value with mean from that column\n",
    "\n",
    "df['INHAHL'].fillna(value=df['INHAHL'].mean(), inplace=True)\n",
    "df['INHAHL'].isnull().sum()"
   ]
  },
  {
   "cell_type": "code",
   "execution_count": null,
   "metadata": {
    "scrolled": true
   },
   "outputs": [],
   "source": [
    "df.info(verbose=True, show_counts=True)"
   ]
  },
  {
   "cell_type": "code",
   "execution_count": null,
   "metadata": {},
   "outputs": [],
   "source": [
    "df['label_dik'].groupby(df['bc2022']).agg(lambda x:x.value_counts().index[0])"
   ]
  },
  {
   "cell_type": "code",
   "execution_count": null,
   "metadata": {},
   "outputs": [],
   "source": [
    "# Fill in missing energylabel with mode by buurtcode\n",
    "\n",
    "df['label_dik'].fillna(value=df['label_dik'].groupby(df['bc2022']).transform(lambda x:x.value_counts().index[0]), inplace=True)\n",
    "df['label_dik'].isnull().sum()"
   ]
  },
  {
   "cell_type": "code",
   "execution_count": null,
   "metadata": {
    "scrolled": true
   },
   "outputs": [],
   "source": [
    "df.drop(['Zonneboiler', 'Zonnepanelen'], axis=1, inplace=True)\n",
    "df.info(verbose=True, show_counts=True)"
   ]
  },
  {
   "cell_type": "code",
   "execution_count": null,
   "metadata": {},
   "outputs": [],
   "source": [
    "df.to_parquet('energiematrix_zonder_missing.parquet')"
   ]
  },
  {
   "cell_type": "markdown",
   "metadata": {},
   "source": [
    "EDA for specific Gemert-Bakel data"
   ]
  },
  {
   "cell_type": "code",
   "execution_count": null,
   "metadata": {
    "scrolled": true
   },
   "outputs": [],
   "source": [
    "# Create new dataframe for only Gemert-Bakel\n",
    "\n",
    "df_gb = df.loc[df['gem2022'] == 'Gemert-Bakel']\n",
    "df_gb.info()"
   ]
  },
  {
   "cell_type": "code",
   "execution_count": null,
   "metadata": {
    "scrolled": true
   },
   "outputs": [],
   "source": [
    "# See descriptives for all numerical values\n",
    "\n",
    "df_gb.describe()"
   ]
  },
  {
   "cell_type": "code",
   "execution_count": null,
   "metadata": {
    "scrolled": false
   },
   "outputs": [],
   "source": [
    "# The column VBOOPPERVLAKTE seems to have an outlier. Check this by creating plots\n",
    "\n",
    "df_gb.hist(column='VBOOPPERVLAKTE', bins=15)"
   ]
  },
  {
   "cell_type": "code",
   "execution_count": null,
   "metadata": {},
   "outputs": [],
   "source": [
    "df_gb.plot.scatter(x='VBOOPPERVLAKTE', y='lihk_lilek_nieuw')"
   ]
  },
  {
   "cell_type": "code",
   "execution_count": null,
   "metadata": {
    "scrolled": true
   },
   "outputs": [],
   "source": [
    "# Remove one outlier by filtering for everything in this column under 30000\n",
    "\n",
    "df_gb = df_gb[df_gb['VBOOPPERVLAKTE'] < 30000]"
   ]
  },
  {
   "cell_type": "code",
   "execution_count": null,
   "metadata": {},
   "outputs": [],
   "source": [
    "df_gb.plot.scatter(x='VBOOPPERVLAKTE', y='lihk_lilek_nieuw')"
   ]
  },
  {
   "cell_type": "code",
   "execution_count": null,
   "metadata": {},
   "outputs": [],
   "source": [
    "df_gb.hist(column = 'VBOOPPERVLAKTE', bins=15)"
   ]
  },
  {
   "cell_type": "code",
   "execution_count": null,
   "metadata": {},
   "outputs": [],
   "source": [
    "# Look closer at categorical variables by creating a seperate dataframe including only cateogirical variables\n",
    "\n",
    "df_cat = df_gb.select_dtypes(include = 'category').copy()\n",
    "df_cat.head(10)"
   ]
  },
  {
   "cell_type": "code",
   "execution_count": null,
   "metadata": {},
   "outputs": [],
   "source": [
    "# Create seperate dataframe for value labels, number of missing values, percentages missing, etc. for all categorical variables\n",
    "\n",
    "df_cat_stats = pd.DataFrame(columns = ['column', 'values', 'values_count_incna', 'num_miss', 'pct_miss'])\n",
    "tmp = pd.DataFrame()\n",
    "\n",
    "for c in df_cat.columns:\n",
    "    tmp['column'] = [c]\n",
    "    tmp['values'] = [df_cat[c].unique()]\n",
    "    tmp['values_count_incna'] = len(list(df_cat[c].unique()))\n",
    "    tmp['num_miss'] = df_cat[c].isnull().sum()\n",
    "    tmp['pct_miss'] = (df_cat[c].isnull().sum()/len(df_cat)).round(3)*100\n",
    "    df_cat_stats = df_cat_stats.append(tmp)\n",
    "    \n",
    "df_cat_stats"
   ]
  },
  {
   "cell_type": "code",
   "execution_count": null,
   "metadata": {},
   "outputs": [],
   "source": [
    "import seaborn as sns\n",
    "import matplotlib.pyplot as plt\n",
    "\n",
    "sns.countplot(data = df_gb, x = 'label_dik')"
   ]
  },
  {
   "cell_type": "code",
   "execution_count": null,
   "metadata": {},
   "outputs": [],
   "source": [
    "# Visualise the y variable; lihk_lilek_nieuw\n",
    "\n",
    "sns.countplot(data = df_gb, x = 'lihk_lilek_nieuw')"
   ]
  },
  {
   "cell_type": "code",
   "execution_count": null,
   "metadata": {},
   "outputs": [],
   "source": [
    "# the graph above shows that the missing values have been replaced with -1\n",
    "# Drop missing values from the y variable\n",
    "\n",
    "df_gb = df_gb[df_gb['lihk_lilek_nieuw'] != -1]\n",
    "df_gb.info('lihk_lilek_nieuw')"
   ]
  },
  {
   "cell_type": "code",
   "execution_count": null,
   "metadata": {
    "scrolled": true
   },
   "outputs": [],
   "source": [
    "# Plot the y variable again to check\n",
    "\n",
    "sns.countplot(data = df_gb, x = 'lihk_lilek_nieuw')"
   ]
  },
  {
   "cell_type": "code",
   "execution_count": null,
   "metadata": {},
   "outputs": [],
   "source": [
    "# Create correlationtable to check for correlations between numerical values\n",
    "\n",
    "corrmat = df_gb.corr()\n",
    "f, ax = plt.subplots(figsize=(12,9))\n",
    "sns.heatmap(corrmat, vmax=.9, square=True, annot=True)"
   ]
  },
  {
   "cell_type": "code",
   "execution_count": null,
   "metadata": {},
   "outputs": [],
   "source": [
    "# Zoom in on correlations with the y variable\n",
    "\n",
    "correlation_ea = df_gb.corr().loc['lihk_lilek_nieuw']\n",
    "correlation_ea.sort_values(ascending = False)"
   ]
  },
  {
   "cell_type": "code",
   "execution_count": null,
   "metadata": {},
   "outputs": [],
   "source": [
    "# Create multiple countplots to check division in categorical variables\n",
    "\n",
    "sns.countplot(data = df_gb, x = 'VBOWoningtype', hue = 'lihk_lilek_nieuw')\n",
    "plt.xticks(rotation=45)"
   ]
  },
  {
   "cell_type": "code",
   "execution_count": null,
   "metadata": {},
   "outputs": [],
   "source": [
    "sns.countplot(data = df_gb, x = 'bouwjaarklasse_pbl', hue = 'lihk_lilek_nieuw')\n",
    "plt.xticks(rotation=45)"
   ]
  },
  {
   "cell_type": "code",
   "execution_count": null,
   "metadata": {},
   "outputs": [],
   "source": [
    "sns.countplot(data = df_gb, x = 'oppervlakteklasse_pbl', hue = 'lihk_lilek_nieuw')\n",
    "plt.xticks(rotation=45)"
   ]
  },
  {
   "cell_type": "code",
   "execution_count": null,
   "metadata": {
    "scrolled": false
   },
   "outputs": [],
   "source": [
    "sns.countplot(data = df_gb, x = 'label_dik', hue = 'lihk_lilek_nieuw')\n",
    "plt.xticks(rotation=45)"
   ]
  }
 ],
 "metadata": {
  "kernelspec": {
   "display_name": "Python 3 (ipykernel)",
   "language": "python",
   "name": "python3"
  },
  "language_info": {
   "codemirror_mode": {
    "name": "ipython",
    "version": 3
   },
   "file_extension": ".py",
   "mimetype": "text/x-python",
   "name": "python",
   "nbconvert_exporter": "python",
   "pygments_lexer": "ipython3",
   "version": "3.10.5"
  }
 },
 "nbformat": 4,
 "nbformat_minor": 4
}
