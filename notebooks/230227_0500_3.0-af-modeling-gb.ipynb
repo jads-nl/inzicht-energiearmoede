{
 "cells": [
  {
   "cell_type": "code",
   "execution_count": null,
   "metadata": {},
   "outputs": [],
   "source": [
    "import matplotlib.pyplot as plt\n",
    "import pandas as pd\n",
    "import seaborn as sns\n",
    "from sklearn import metrics, tree\n",
    "from sklearn.compose import make_column_transformer, ColumnTransformer\n",
    "from sklearn.model_selection import train_test_split\n",
    "from sklearn.pipeline import make_pipeline, Pipeline\n",
    "from sklearn.preprocessing import OneHotEncoder\n",
    "from sklearn.tree import DecisionTreeClassifier"
   ]
  },
  {
   "cell_type": "code",
   "execution_count": null,
   "metadata": {
    "scrolled": true
   },
   "outputs": [],
   "source": [
    "df = pd.read_parquet('energiematrix_zonder_missing.parquet')"
   ]
  },
  {
   "cell_type": "code",
   "execution_count": null,
   "metadata": {},
   "outputs": [],
   "source": [
    "df.info()\n",
    "df.head()"
   ]
  },
  {
   "cell_type": "code",
   "execution_count": null,
   "metadata": {},
   "outputs": [],
   "source": [
    "df_gb = df.loc[df['gem2022'] == 'Gemert-Bakel']\n",
    "df_gb.info(verbose=True, show_counts=True)"
   ]
  },
  {
   "cell_type": "code",
   "execution_count": null,
   "metadata": {},
   "outputs": [],
   "source": [
    "# data preparation\n",
    "# train-test split\n",
    "x_train, x_test, y_train, y_test = train_test_split(\n",
    "    df_gb.iloc[:, :41],\n",
    "    df_gb.lihk_lilek_nieuw,\n",
    "    random_state=0,\n",
    "    test_size=0.3\n",
    ")\n",
    "\n",
    "# separate preprocessing for categorical and numerical columns\n",
    "num_cols = df_gb.select_dtypes(include=\"number\").columns\n",
    "cat_cols = df_gb.select_dtypes(include=\"category\").columns\n",
    "categories = [df_gb[col].cat.categories for col in cat_cols]\n",
    "preprocess_cat_cols = make_pipeline(\n",
    "    OneHotEncoder(categories=categories))\n",
    "\n",
    "# pipeline to prepare full dataset\n",
    "prepare_data = make_column_transformer(\n",
    "    (preprocess_cat_cols, cat_cols),\n",
    "    remainder=\"passthrough\")\n",
    "\n",
    "# full pipeline with decision tree\n",
    "dt = make_pipeline(\n",
    "    prepare_data,\n",
    "    DecisionTreeClassifier(max_depth=3)\n",
    ")"
   ]
  },
  {
   "cell_type": "code",
   "execution_count": null,
   "metadata": {},
   "outputs": [],
   "source": [
    "dt"
   ]
  },
  {
   "cell_type": "code",
   "execution_count": null,
   "metadata": {},
   "outputs": [],
   "source": [
    "# Fit and evaluate performance decision tree\n",
    "dt.fit(x_train, y_train)\n",
    "y_pred1 = dt.predict(x_test)\n",
    "\n",
    "print(\"Accuracy:\", metrics.accuracy_score(y_test, y_pred1))\n",
    "print(\"Precision:\", metrics.precision_score(y_test, y_pred1))\n",
    "print(\"Recall:\", metrics.recall_score(y_test, y_pred1))"
   ]
  },
  {
   "cell_type": "code",
   "execution_count": null,
   "metadata": {},
   "outputs": [],
   "source": [
    "# visualize the tree\n",
    "feature_names = dt[:-1].get_feature_names_out()\n",
    "fig = plt.figure(figsize=(25,20))\n",
    "_ = tree.plot_tree(dt[1],\n",
    "                  feature_names=feature_names,\n",
    "                  proportion=True,\n",
    "                  filled=True)"
   ]
  },
  {
   "cell_type": "code",
   "execution_count": null,
   "metadata": {},
   "outputs": [],
   "source": [
    "# save fig\n",
    "\n",
    "fig.savefig(\"Model_GB_2.png\")"
   ]
  },
  {
   "cell_type": "code",
   "execution_count": null,
   "metadata": {},
   "outputs": [],
   "source": [
    "# create confusion matrix to check performance\n",
    "confusion_matrix = metrics.confusion_matrix(y_test, y_pred1)\n",
    "matrix_df = pd.DataFrame(confusion_matrix)\n",
    "\n",
    "ax = plt.axes()\n",
    "sns.set(font_scale=1.3)\n",
    "plt.figure(figsize=(10,7))\n",
    "sns.heatmap(matrix_df, annot=True, fmt=\"g\", ax=ax, cmap=\"magma\")\n",
    "\n",
    "ax.set_title('Confusion Matrix Model 1')\n",
    "ax.set_xlabel('Predicted label')\n",
    "ax.set_ylabel('True label')\n",
    "plt.show()"
   ]
  },
  {
   "cell_type": "code",
   "execution_count": null,
   "metadata": {},
   "outputs": [],
   "source": [
    "# create classification report to check performance\n",
    "from sklearn.metrics import classification_report\n",
    "print(classification_report(y_test, y_pred1))"
   ]
  },
  {
   "cell_type": "code",
   "execution_count": null,
   "metadata": {},
   "outputs": [],
   "source": [
    "# calculate feature importance to compare different trees from different runs\n",
    "importance = pd.DataFrame(dt[1].feature_importances_, index=feature_names).sort_values(by=[0], ascending=False)\n",
    "importance.head(25)"
   ]
  }
 ],
 "metadata": {
  "kernelspec": {
   "display_name": "Python 3 (ipykernel)",
   "language": "python",
   "name": "python3"
  },
  "language_info": {
   "codemirror_mode": {
    "name": "ipython",
    "version": 3
   },
   "file_extension": ".py",
   "mimetype": "text/x-python",
   "name": "python",
   "nbconvert_exporter": "python",
   "pygments_lexer": "ipython3",
   "version": "3.10.5"
  }
 },
 "nbformat": 4,
 "nbformat_minor": 4
}
